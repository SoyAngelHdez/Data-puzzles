{
  "nbformat": 4,
  "nbformat_minor": 0,
  "metadata": {
    "colab": {
      "provenance": []
    },
    "kernelspec": {
      "name": "python3",
      "display_name": "Python 3"
    },
    "language_info": {
      "name": "python"
    }
  },
  "cells": [
    {
      "cell_type": "markdown",
      "source": [
        "# Intro\n",
        "\n",
        "A few friends and I are playing a game at 6pm. I know they often arrive late, and I really don't want to be late.\n",
        "\n",
        "I actually looked at historical data, and found out my friends arrival time can be described as random variable that follows a normal distribution of parameter mean = 'appointment time' amd std_dev = 10 min.\n",
        "\n",
        "I need to set the appointment so that Im at least 99% confident all my friends will be there by 6pm. Can you figure out the latest appointment time that would check that criteria? Thanks!!"
      ],
      "metadata": {
        "id": "z62dKQEo5eEo"
      }
    },
    {
      "cell_type": "code",
      "execution_count": 20,
      "metadata": {
        "id": "VJN2jlPR5YLF",
        "outputId": "b365cfc4-993a-4e6b-869f-704bfc5f23f9",
        "colab": {
          "base_uri": "https://localhost:8080/"
        }
      },
      "outputs": [
        {
          "output_type": "stream",
          "name": "stdout",
          "text": [
            "if reunion is set at 18:0, you have 6.30% chance of arriving on time\n",
            "if reunion is set at 17:59, you have 8.54% chance of arriving on time\n",
            "if reunion is set at 17:58, you have 11.28% chance of arriving on time\n",
            "if reunion is set at 17:57, you have 14.53% chance of arriving on time\n",
            "if reunion is set at 17:56, you have 18.43% chance of arriving on time\n",
            "if reunion is set at 17:55, you have 22.94% chance of arriving on time\n",
            "if reunion is set at 17:54, you have 27.46% chance of arriving on time\n",
            "if reunion is set at 17:53, you have 33.18% chance of arriving on time\n",
            "if reunion is set at 17:52, you have 38.80% chance of arriving on time\n",
            "if reunion is set at 17:51, you have 44.05% chance of arriving on time\n",
            "if reunion is set at 17:50, you have 49.95% chance of arriving on time\n",
            "if reunion is set at 17:49, you have 55.98% chance of arriving on time\n",
            "if reunion is set at 17:48, you have 61.41% chance of arriving on time\n",
            "if reunion is set at 17:47, you have 66.60% chance of arriving on time\n",
            "if reunion is set at 17:46, you have 71.44% chance of arriving on time\n",
            "if reunion is set at 17:45, you have 75.77% chance of arriving on time\n",
            "if reunion is set at 17:44, you have 79.88% chance of arriving on time\n",
            "if reunion is set at 17:43, you have 83.50% chance of arriving on time\n",
            "if reunion is set at 17:42, you have 86.29% chance of arriving on time\n",
            "if reunion is set at 17:41, you have 88.95% chance of arriving on time\n",
            "if reunion is set at 17:40, you have 91.47% chance of arriving on time\n",
            "if reunion is set at 17:39, you have 93.01% chance of arriving on time\n",
            "if reunion is set at 17:38, you have 94.60% chance of arriving on time\n",
            "if reunion is set at 17:37, you have 95.72% chance of arriving on time\n",
            "if reunion is set at 17:36, you have 96.70% chance of arriving on time\n",
            "if reunion is set at 17:35, you have 97.55% chance of arriving on time\n",
            "if reunion is set at 17:34, you have 98.21% chance of arriving on time\n",
            "if reunion is set at 17:33, you have 98.64% chance of arriving on time\n",
            "if reunion is set at 17:32, you have 98.99% chance of arriving on time\n",
            "if reunion is set at 17:31, you have 99.23% chance of arriving on time\n",
            "1050\n"
          ]
        }
      ],
      "source": [
        "import matplotlib.pyplot as plt\n",
        "import numpy as np\n",
        "\n",
        "game_time = 18 * 60 # 6pm in number of minutes from midnight\n",
        "n_friends = 4\n",
        "std_dev_arrival_time_min = 10\n",
        "# ... and that's all!\n",
        "# right_appointment_time = ?\n",
        "\n",
        "def simulate_friends(reunion_time, friends, std_dev_arrival):\n",
        "  return float(max(np.random.normal(reunion_time,std_dev_arrival,friends)))\n",
        "\n",
        "def get_answer (friends, std_dev_arrival, simulations, game_time):\n",
        "  confidence = 0\n",
        "  reunion_time = game_time\n",
        "  while confidence < 99:\n",
        "    arrived_late = 0\n",
        "    for _ in range(simulations):\n",
        "      if simulate_friends(reunion_time,friends,std_dev_arrival) > game_time:\n",
        "        arrived_late += 1\n",
        "    confidence = ((arrived_late /simulations)-1)*(-100)\n",
        "    print(f'if reunion is set at {reunion_time//60}:{reunion_time%60}, you have {\"%.2f\" %confidence}% chance of arriving on time')\n",
        "    reunion_time -= 1\n",
        "  return reunion_time\n",
        "\n",
        "print(get_answer(n_friends,std_dev_arrival_time_min,100000,game_time))"
      ]
    },
    {
      "cell_type": "code",
      "source": [],
      "metadata": {
        "id": "lkKBacrKCnQF"
      },
      "execution_count": 16,
      "outputs": []
    }
  ]
}